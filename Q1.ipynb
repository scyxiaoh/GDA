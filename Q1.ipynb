{
 "cells": [
  {
   "cell_type": "code",
   "execution_count": 9,
   "metadata": {
    "collapsed": true
   },
   "outputs": [],
   "source": [
    "import numpy as np"
   ]
  },
  {
   "cell_type": "code",
   "execution_count": 2,
   "metadata": {
    "collapsed": true
   },
   "outputs": [],
   "source": [
    "cov = np.loadtxt('DS1_Cov.txt', delimiter=',', usecols = range(20))\n",
    "mean_neg = np.loadtxt('DS1_m_0.txt', delimiter=',', usecols = range(20))\n",
    "mean_pos = np.loadtxt('DS1_m_1.txt', delimiter=',', usecols = range(20))"
   ]
  },
  {
   "cell_type": "code",
   "execution_count": 3,
   "metadata": {
    "collapsed": true
   },
   "outputs": [],
   "source": [
    "c_neg = np.random.multivariate_normal(mean_neg, cov, 2000)\n",
    "c_pos = np.random.multivariate_normal(mean_pos, cov, 2000)"
   ]
  },
  {
   "cell_type": "code",
   "execution_count": 4,
   "metadata": {
    "collapsed": true
   },
   "outputs": [],
   "source": [
    "x_test_0 = np.split(c_neg, [600,2000])[0]\n",
    "x_test_1 = np.split(c_pos, [600,2000])[0]\n",
    "x_train_0 = np.split(c_neg, [600,2000])[1]\n",
    "x_train_1 = np.split(c_pos, [600,2000])[1]"
   ]
  },
  {
   "cell_type": "code",
   "execution_count": 5,
   "metadata": {
    "collapsed": true
   },
   "outputs": [],
   "source": [
    "np.savetxt('DS1_test_0.txt', x_test_0, delimiter=',')\n",
    "np.savetxt('DS1_test_1.txt', x_test_1, delimiter=',')\n",
    "np.savetxt('DS1_train_0.txt', x_train_0, delimiter=',')\n",
    "np.savetxt('DS1_train_1.txt', x_train_1, delimiter=',')"
   ]
  },
  {
   "cell_type": "code",
   "execution_count": null,
   "metadata": {},
   "outputs": [],
   "source": []
  },
  {
   "cell_type": "code",
   "execution_count": null,
   "metadata": {},
   "outputs": [],
   "source": []
  },
  {
   "cell_type": "code",
   "execution_count": null,
   "metadata": {
    "collapsed": true
   },
   "outputs": [],
   "source": []
  }
 ],
 "metadata": {
  "kernelspec": {
   "display_name": "Python 3",
   "language": "python",
   "name": "python3"
  },
  "language_info": {
   "codemirror_mode": {
    "name": "ipython",
    "version": 3
   },
   "file_extension": ".py",
   "mimetype": "text/x-python",
   "name": "python",
   "nbconvert_exporter": "python",
   "pygments_lexer": "ipython3",
   "version": "3.6.3"
  }
 },
 "nbformat": 4,
 "nbformat_minor": 2
}
