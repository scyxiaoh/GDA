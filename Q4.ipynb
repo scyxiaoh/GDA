{
 "cells": [
  {
   "cell_type": "code",
   "execution_count": 12,
   "metadata": {
    "collapsed": true
   },
   "outputs": [],
   "source": [
    "import numpy as np\n",
    "import random as rd"
   ]
  },
  {
   "cell_type": "code",
   "execution_count": 9,
   "metadata": {
    "collapsed": true
   },
   "outputs": [],
   "source": [
    "cov_1 = np.loadtxt('DS2_Cov1.txt', delimiter=',', usecols = range(20))\n",
    "cov_2 = np.loadtxt('DS2_Cov2.txt', delimiter=',', usecols = range(20))\n",
    "cov_3 = np.loadtxt('DS2_Cov3.txt', delimiter=',', usecols = range(20))\n",
    "mean_neg_1 = np.loadtxt('DS2_c2_m1.txt', delimiter=',', usecols = range(20))\n",
    "mean_neg_2 = np.loadtxt('DS2_c2_m2.txt', delimiter=',', usecols = range(20))\n",
    "mean_neg_3 = np.loadtxt('DS2_c2_m3.txt', delimiter=',', usecols = range(20))\n",
    "mean_pos_1 = np.loadtxt('DS2_c1_m1.txt', delimiter=',', usecols = range(20))\n",
    "mean_pos_2 = np.loadtxt('DS2_c1_m2.txt', delimiter=',', usecols = range(20))\n",
    "mean_pos_3 = np.loadtxt('DS2_c1_m3.txt', delimiter=',', usecols = range(20))"
   ]
  },
  {
   "cell_type": "code",
   "execution_count": 34,
   "metadata": {},
   "outputs": [],
   "source": [
    "neg_list = []\n",
    "for i in range(2000):\n",
    "    random = rd.random()\n",
    "    if random < 0.1:\n",
    "        new_data = np.random.multivariate_normal(mean_neg_1, cov_1)\n",
    "    elif (random >= 0.1) & (random < 0.48):\n",
    "        new_data = np.random.multivariate_normal(mean_neg_2, cov_2)\n",
    "    else:\n",
    "        new_data = np.random.multivariate_normal(mean_neg_3, cov_3)\n",
    "    neg_list.append(new_data)\n",
    "ds2_neg = np.array(neg_list)"
   ]
  },
  {
   "cell_type": "code",
   "execution_count": 36,
   "metadata": {},
   "outputs": [],
   "source": [
    "pos_list = []\n",
    "for i in range(2000):\n",
    "    random = rd.random()\n",
    "    if random < 0.1:\n",
    "        new_data = np.random.multivariate_normal(mean_pos_1, cov_1)\n",
    "    elif (random >= 0.1) & (random < 0.48):\n",
    "        new_data = np.random.multivariate_normal(mean_pos_2, cov_2)\n",
    "    else:\n",
    "        new_data = np.random.multivariate_normal(mean_pos_3, cov_3)\n",
    "    pos_list.append(new_data)\n",
    "ds2_pos = np.array(pos_list)"
   ]
  },
  {
   "cell_type": "code",
   "execution_count": 37,
   "metadata": {
    "collapsed": true
   },
   "outputs": [],
   "source": [
    "x_test_0 = np.split(ds2_neg, [600,2000])[0]\n",
    "x_test_1 = np.split(ds2_pos, [600,2000])[0]\n",
    "x_train_0 = np.split(ds2_neg, [600,2000])[1]\n",
    "x_train_1 = np.split(ds2_pos, [600,2000])[1]"
   ]
  },
  {
   "cell_type": "code",
   "execution_count": 42,
   "metadata": {},
   "outputs": [],
   "source": [
    "np.savetxt('DS2_test_0.txt', x_test_0, delimiter=',')\n",
    "np.savetxt('DS2_test_1.txt', x_test_1, delimiter=',')\n",
    "np.savetxt('DS2_train_0.txt', x_train_0, delimiter=',')\n",
    "np.savetxt('DS2_train_1.txt', x_train_1, delimiter=',')"
   ]
  },
  {
   "cell_type": "code",
   "execution_count": null,
   "metadata": {},
   "outputs": [],
   "source": []
  },
  {
   "cell_type": "code",
   "execution_count": null,
   "metadata": {},
   "outputs": [],
   "source": []
  },
  {
   "cell_type": "code",
   "execution_count": null,
   "metadata": {
    "collapsed": true
   },
   "outputs": [],
   "source": []
  }
 ],
 "metadata": {
  "kernelspec": {
   "display_name": "Python 3",
   "language": "python",
   "name": "python3"
  },
  "language_info": {
   "codemirror_mode": {
    "name": "ipython",
    "version": 3
   },
   "file_extension": ".py",
   "mimetype": "text/x-python",
   "name": "python",
   "nbconvert_exporter": "python",
   "pygments_lexer": "ipython3",
   "version": "3.6.3"
  }
 },
 "nbformat": 4,
 "nbformat_minor": 2
}
