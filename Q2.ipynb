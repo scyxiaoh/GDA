{
 "cells": [
  {
   "cell_type": "code",
   "execution_count": 125,
   "metadata": {
    "collapsed": true
   },
   "outputs": [],
   "source": [
    "import numpy as np\n",
    "import scipy as sp\n",
    "import math"
   ]
  },
  {
   "cell_type": "code",
   "execution_count": 2,
   "metadata": {
    "collapsed": true
   },
   "outputs": [],
   "source": [
    "cn_train = np.loadtxt('DS1_train_0.txt', delimiter=',', usecols = range(20))\n",
    "cp_train = np.loadtxt('DS1_train_1.txt', delimiter=',', usecols = range(20))"
   ]
  },
  {
   "cell_type": "code",
   "execution_count": 5,
   "metadata": {},
   "outputs": [],
   "source": [
    "pi = (cn_train.shape[0])/(cn_train.shape[0]+cp_train.shape[0])"
   ]
  },
  {
   "cell_type": "code",
   "execution_count": 140,
   "metadata": {},
   "outputs": [],
   "source": [
    "mu_n = np.mean(cn_train, axis=0)\n",
    "mu_p = np.mean(cp_train, axis=0)"
   ]
  },
  {
   "cell_type": "code",
   "execution_count": 142,
   "metadata": {},
   "outputs": [],
   "source": [
    "sum = np.zeros((20,20))\n",
    "for i in cn_train:\n",
    "    sum = sum + np.atleast_2d(i-mu_n).T.dot(np.atleast_2d(i-mu_n))"
   ]
  },
  {
   "cell_type": "code",
   "execution_count": 143,
   "metadata": {},
   "outputs": [],
   "source": [
    "s_1 = sum/cn_train.shape[0]"
   ]
  },
  {
   "cell_type": "code",
   "execution_count": 145,
   "metadata": {},
   "outputs": [],
   "source": [
    "sum = np.zeros((20,20))\n",
    "for i in cp_train:\n",
    "    sum = sum + np.atleast_2d(i-mu_p).T.dot(np.atleast_2d(i-mu_p))"
   ]
  },
  {
   "cell_type": "code",
   "execution_count": 146,
   "metadata": {},
   "outputs": [],
   "source": [
    "s_2 = sum/cp_train.shape[0]"
   ]
  },
  {
   "cell_type": "code",
   "execution_count": 147,
   "metadata": {},
   "outputs": [],
   "source": [
    "sigma = pi*s_1 + (1-pi)*s_2"
   ]
  },
  {
   "cell_type": "code",
   "execution_count": 173,
   "metadata": {},
   "outputs": [],
   "source": [
    "def p_cn(x):\n",
    "    return 1/((2*math.pi)**(x.shape[0]/2)) * 1/math.sqrt(np.linalg.det(sigma)) * math.exp((-1/2) * (np.atleast_2d(x-mu_n).dot(np.linalg.inv(sigma))).dot(np.atleast_2d(x-mu_n).T))"
   ]
  },
  {
   "cell_type": "code",
   "execution_count": 191,
   "metadata": {},
   "outputs": [],
   "source": [
    "def p_cp(x):\n",
    "    return 1/((2*math.pi)**(x.shape[0]/2)) * 1/math.sqrt(np.linalg.det(sigma)) * math.exp((-1/2) * (np.atleast_2d(x-mu_p).dot(np.linalg.inv(sigma))).dot(np.atleast_2d(x-mu_p).T))"
   ]
  },
  {
   "cell_type": "code",
   "execution_count": 197,
   "metadata": {},
   "outputs": [],
   "source": [
    "cn_test = np.loadtxt('DS1_test_0.txt', delimiter=',', usecols = range(20))\n",
    "cp_test = np.loadtxt('DS1_test_1.txt', delimiter=',', usecols = range(20))"
   ]
  },
  {
   "cell_type": "code",
   "execution_count": 201,
   "metadata": {},
   "outputs": [
    {
     "name": "stdout",
     "output_type": "stream",
     "text": [
      "0.945\n",
      "0.9464882943143813\n",
      "0.9433333333333334\n",
      "0.9449081803005008\n"
     ]
    }
   ],
   "source": [
    "#test\n",
    "num_correct = 0\n",
    "true_positive = 0\n",
    "false_positive = 0\n",
    "false_negative = 0\n",
    "for i in cn_test:\n",
    "    if p_cn(i) > p_cp(i):\n",
    "        num_correct = num_correct + 1\n",
    "    else:\n",
    "        false_positive = false_positive + 1\n",
    "for i in cp_test:\n",
    "    if p_cp(i) > p_cn(i):\n",
    "        num_correct = num_correct + 1\n",
    "        true_positive = true_positive + 1\n",
    "    else:\n",
    "        false_negative = false_negative + 1\n",
    "accuracy = num_correct/(cn_test.shape[0]+cp_test.shape[0])\n",
    "precision = true_positive/(true_positive+false_positive)\n",
    "recall = true_positive/(true_positive+false_negative)\n",
    "f_measure = (2*precision*recall)/(precision + recall)\n",
    "print(accuracy)\n",
    "print(precision)\n",
    "print(recall)\n",
    "print(f_measure)"
   ]
  },
  {
   "cell_type": "code",
   "execution_count": 249,
   "metadata": {},
   "outputs": [],
   "source": [
    "#using coefficient method\n",
    "w = np.linalg.inv(sigma).dot(np.atleast_2d(mu_n-mu_p).T)\n",
    "w_0 = -0.5 * np.atleast_2d(mu_n).dot(np.linalg.inv(sigma)).dot(np.atleast_2d(mu_n).T) + 0.5 * np.atleast_2d(mu_p).dot(np.linalg.inv(sigma)).dot(np.atleast_2d(mu_p).T) + math.log((pi/(1-pi)),math.e)"
   ]
  },
  {
   "cell_type": "code",
   "execution_count": 258,
   "metadata": {},
   "outputs": [],
   "source": [
    "def p(x):\n",
    "    return (w.T.dot(np.atleast_2d(x).T)+w_0)[0][0]"
   ]
  },
  {
   "cell_type": "code",
   "execution_count": 259,
   "metadata": {
    "scrolled": true
   },
   "outputs": [
    {
     "name": "stdout",
     "output_type": "stream",
     "text": [
      "0.9416666666666667\n",
      "0.9315960912052117\n",
      "0.9533333333333334\n",
      "0.942339373970346\n",
      "[[ 14.6252034 ]\n",
      " [ -8.63980737]\n",
      " [ -4.97009753]\n",
      " [ -2.52681059]\n",
      " [ -9.65332859]\n",
      " [ -4.70129412]\n",
      " [ 15.88716444]\n",
      " [-24.38437697]\n",
      " [-28.79536387]\n",
      " [  9.71055264]\n",
      " [-13.19991054]\n",
      " [-11.65858298]\n",
      " [ 14.88880292]\n",
      " [ 12.33018922]\n",
      " [ -5.70199126]\n",
      " [ 13.1833621 ]\n",
      " [ 28.73244738]\n",
      " [ -6.81288695]\n",
      " [  0.38923705]\n",
      " [ -5.1167541 ]]\n",
      "[[ 27.02987323]]\n"
     ]
    }
   ],
   "source": [
    "#test\n",
    "num_correct = 0\n",
    "true_positive = 0\n",
    "false_positive = 0\n",
    "false_negative = 0\n",
    "for i in cn_test:\n",
    "    if p(i) > 0.5:\n",
    "        num_correct = num_correct + 1\n",
    "    else:\n",
    "        false_positive = false_positive + 1\n",
    "for i in cp_test:\n",
    "    if p(i) <= 0.5:\n",
    "        num_correct = num_correct + 1\n",
    "        true_positive = true_positive + 1\n",
    "    else:\n",
    "        false_negative = false_negative + 1\n",
    "accuracy = num_correct/(cn_test.shape[0]+cp_test.shape[0])\n",
    "precision = true_positive/(true_positive+false_positive)\n",
    "recall = true_positive/(true_positive+false_negative)\n",
    "f_measure = (2*precision*recall)/(precision + recall)\n",
    "print(accuracy)\n",
    "print(precision)\n",
    "print(recall)\n",
    "print(f_measure)\n",
    "print(w)\n",
    "print(w_0)"
   ]
  },
  {
   "cell_type": "code",
   "execution_count": null,
   "metadata": {},
   "outputs": [],
   "source": []
  },
  {
   "cell_type": "code",
   "execution_count": null,
   "metadata": {
    "collapsed": true
   },
   "outputs": [],
   "source": []
  }
 ],
 "metadata": {
  "kernelspec": {
   "display_name": "Python 3",
   "language": "python",
   "name": "python3"
  },
  "language_info": {
   "codemirror_mode": {
    "name": "ipython",
    "version": 3
   },
   "file_extension": ".py",
   "mimetype": "text/x-python",
   "name": "python",
   "nbconvert_exporter": "python",
   "pygments_lexer": "ipython3",
   "version": "3.6.3"
  }
 },
 "nbformat": 4,
 "nbformat_minor": 2
}
