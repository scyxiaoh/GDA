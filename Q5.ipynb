{
 "cells": [
  {
   "cell_type": "code",
   "execution_count": 2,
   "metadata": {
    "collapsed": true
   },
   "outputs": [],
   "source": [
    "import numpy as np\n",
    "import scipy as sp\n",
    "import math\n",
    "import itertools"
   ]
  },
  {
   "cell_type": "code",
   "execution_count": 3,
   "metadata": {
    "collapsed": true
   },
   "outputs": [],
   "source": [
    "cn_train = np.loadtxt('DS2_train_0.txt', delimiter=',', usecols = range(20))\n",
    "cp_train = np.loadtxt('DS2_train_1.txt', delimiter=',', usecols = range(20))\n",
    "cn_test = np.loadtxt('DS2_test_0.txt', delimiter=',', usecols = range(20))\n",
    "cp_test = np.loadtxt('DS2_test_1.txt', delimiter=',', usecols = range(20))"
   ]
  },
  {
   "cell_type": "code",
   "execution_count": 4,
   "metadata": {
    "collapsed": true
   },
   "outputs": [],
   "source": [
    "#parameter of gda\n",
    "pi = (cn_train.shape[0])/(cn_train.shape[0]+cp_train.shape[0])\n",
    "mu_n = np.mean(cn_train, axis=0)\n",
    "mu_p = np.mean(cp_train, axis=0)\n",
    "sum = np.zeros((20,20))\n",
    "for i in cn_train:\n",
    "    sum = sum + np.atleast_2d(i-mu_n).T.dot(np.atleast_2d(i-mu_n))\n",
    "s_1 = sum/cn_train.shape[0]\n",
    "sum = np.zeros((20,20))\n",
    "for i in cp_train:\n",
    "    sum = sum + np.atleast_2d(i-mu_p).T.dot(np.atleast_2d(i-mu_p))\n",
    "s_2 = sum/cp_train.shape[0]\n",
    "sigma = pi*s_1 + (1-pi)*s_2"
   ]
  },
  {
   "cell_type": "code",
   "execution_count": 5,
   "metadata": {
    "collapsed": true
   },
   "outputs": [],
   "source": [
    "#coefficient of gda\n",
    "#using coefficient method\n",
    "w = np.linalg.inv(sigma).dot(np.atleast_2d(mu_n-mu_p).T)\n",
    "w_0 = -0.5 * np.atleast_2d(mu_n).dot(np.linalg.inv(sigma)).dot(np.atleast_2d(mu_n).T) + 0.5 * np.atleast_2d(mu_p).dot(np.linalg.inv(sigma)).dot(np.atleast_2d(mu_p).T) + math.log((pi/(1-pi)),math.e)"
   ]
  },
  {
   "cell_type": "code",
   "execution_count": 6,
   "metadata": {
    "collapsed": true
   },
   "outputs": [],
   "source": [
    "def p(x):\n",
    "    return (w.T.dot(np.atleast_2d(x).T)+w_0)[0][0]"
   ]
  },
  {
   "cell_type": "code",
   "execution_count": 7,
   "metadata": {},
   "outputs": [
    {
     "name": "stdout",
     "output_type": "stream",
     "text": [
      "0.5083333333333333\n",
      "0.5042087542087542\n",
      "0.9983333333333333\n",
      "0.6700223713646533\n",
      "[[-0.10832542]\n",
      " [ 0.01236988]\n",
      " [ 0.01566538]\n",
      " [-0.01465766]\n",
      " [ 0.02018749]\n",
      " [ 0.04518463]\n",
      " [-0.07808383]\n",
      " [ 0.08387873]\n",
      " [ 0.02135773]\n",
      " [ 0.06952269]\n",
      " [ 0.09384125]\n",
      " [ 0.03465218]\n",
      " [ 0.02263593]\n",
      " [-0.00173435]\n",
      " [-0.09890626]\n",
      " [ 0.05135079]\n",
      " [-0.0082887 ]\n",
      " [-0.03538724]\n",
      " [-0.06158313]\n",
      " [-0.01939665]]\n",
      "[[-0.0499968]]\n"
     ]
    }
   ],
   "source": [
    "#test of gda\n",
    "num_correct = 0\n",
    "true_positive = 0\n",
    "false_positive = 0\n",
    "false_negative = 0\n",
    "for i in cn_test:\n",
    "    if p(i) > 0.5:\n",
    "        num_correct = num_correct + 1\n",
    "    else:\n",
    "        false_positive = false_positive + 1\n",
    "for i in cp_test:\n",
    "    if p(i) <= 0.5:\n",
    "        num_correct = num_correct + 1\n",
    "        true_positive = true_positive + 1\n",
    "    else:\n",
    "        false_negative = false_negative + 1\n",
    "accuracy = num_correct/(cn_test.shape[0]+cp_test.shape[0])\n",
    "precision = true_positive/(true_positive+false_positive)\n",
    "recall = true_positive/(true_positive+false_negative)\n",
    "f_measure = (2*precision*recall)/(precision + recall)\n",
    "print(accuracy)\n",
    "print(precision)\n",
    "print(recall)\n",
    "print(f_measure)\n",
    "print(w)\n",
    "print(w_0)"
   ]
  },
  {
   "cell_type": "code",
   "execution_count": 8,
   "metadata": {
    "collapsed": true
   },
   "outputs": [],
   "source": [
    "#define functions of k-NN\n",
    "def distance(x0, x1):\n",
    "    return np.linalg.norm(x0-x1)\n",
    "\n",
    "def get_dist_table(x):\n",
    "    rank = []\n",
    "    for i in cn_train:\n",
    "        rank.append((i, 1, distance(x,i)))\n",
    "    for i in cp_train:\n",
    "        rank.append((i, 0, distance(x,i)))\n",
    "    rank.sort(key = lambda t:t[2])\n",
    "    return rank\n",
    "\n",
    "def y_predict(index, k):\n",
    "    rank = test_dict[index]\n",
    "    sum = 0\n",
    "    for i in range(k):\n",
    "        sum = sum + rank[i][1]\n",
    "    return sum/k"
   ]
  },
  {
   "cell_type": "code",
   "execution_count": 9,
   "metadata": {
    "collapsed": true
   },
   "outputs": [],
   "source": [
    "#load distance table first ty apply dynamic programming\n",
    "test_dict = []\n",
    "for i in cn_test:\n",
    "    test_dict.append(get_dist_table(i))\n",
    "for i in cp_test:\n",
    "    test_dict.append(get_dist_table(i))"
   ]
  },
  {
   "cell_type": "code",
   "execution_count": 10,
   "metadata": {
    "collapsed": true
   },
   "outputs": [],
   "source": [
    "def test(k):\n",
    "    num_correct = 0\n",
    "    true_positive = 0\n",
    "    false_positive = 0\n",
    "    false_negative = 0\n",
    "    index = 0\n",
    "    for i in cn_test:\n",
    "        if y_predict(index, k) > 0.5:\n",
    "            num_correct = num_correct + 1\n",
    "        else:\n",
    "            false_positive = false_positive + 1\n",
    "        index = index + 1\n",
    "    for i in cp_test:\n",
    "        if y_predict(index, k) <= 0.5:\n",
    "            num_correct = num_correct + 1\n",
    "            true_positive = true_positive + 1\n",
    "        else:\n",
    "            false_negative = false_negative + 1\n",
    "        index = index + 1\n",
    "    accuracy = num_correct/(cn_test.shape[0]+cp_test.shape[0])\n",
    "    precision = true_positive/(true_positive+false_positive)\n",
    "    recall = true_positive/(true_positive+false_negative)\n",
    "    f_measure = (2*precision*recall)/(precision + recall)\n",
    "    return (k, accuracy, precision, recall, f_measure)"
   ]
  },
  {
   "cell_type": "code",
   "execution_count": 11,
   "metadata": {},
   "outputs": [
    {
     "data": {
      "text/plain": [
       "[(2100, 0.5, 0.5, 1.0, 0.6666666666666666),\n",
       " (2200, 0.5, 0.5, 1.0, 0.6666666666666666),\n",
       " (2300, 0.5, 0.5, 1.0, 0.6666666666666666),\n",
       " (2400, 0.5, 0.5, 1.0, 0.6666666666666666),\n",
       " (2000,\n",
       "  0.49916666666666665,\n",
       "  0.49958298582151794,\n",
       "  0.9983333333333333,\n",
       "  0.6659255141745414),\n",
       " (1900, 0.4975, 0.49873417721518987, 0.985, 0.6621848739495798),\n",
       " (1600,\n",
       "  0.49833333333333335,\n",
       "  0.4991496598639456,\n",
       "  0.9783333333333334,\n",
       "  0.661036036036036),\n",
       " (1700, 0.49833333333333335, 0.49914236706689535, 0.97, 0.6591166477916195),\n",
       " (1800, 0.49916666666666665, 0.4995685936151855, 0.965, 0.6583285957930642),\n",
       " (2500, 0.5, 0.5, 0.9616666666666667, 0.6579247434435576)]"
      ]
     },
     "execution_count": 11,
     "metadata": {},
     "output_type": "execute_result"
    }
   ],
   "source": [
    "#test of k-NN\n",
    "test_table = []\n",
    "for k in itertools.chain(range(1,11), range(20,101,10), range(200,2701,100)):\n",
    "    test_table.append(test(k))\n",
    "test_table.sort(key = lambda t:t[4],reverse=True)\n",
    "test_table[:10]"
   ]
  },
  {
   "cell_type": "code",
   "execution_count": null,
   "metadata": {},
   "outputs": [],
   "source": []
  },
  {
   "cell_type": "code",
   "execution_count": null,
   "metadata": {
    "collapsed": true
   },
   "outputs": [],
   "source": []
  }
 ],
 "metadata": {
  "kernelspec": {
   "display_name": "Python 3",
   "language": "python",
   "name": "python3"
  },
  "language_info": {
   "codemirror_mode": {
    "name": "ipython",
    "version": 3
   },
   "file_extension": ".py",
   "mimetype": "text/x-python",
   "name": "python",
   "nbconvert_exporter": "python",
   "pygments_lexer": "ipython3",
   "version": "3.6.3"
  }
 },
 "nbformat": 4,
 "nbformat_minor": 2
}
