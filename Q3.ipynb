{
 "cells": [
  {
   "cell_type": "code",
   "execution_count": 102,
   "metadata": {},
   "outputs": [],
   "source": [
    "import numpy as np\n",
    "import itertools"
   ]
  },
  {
   "cell_type": "code",
   "execution_count": 103,
   "metadata": {
    "collapsed": true
   },
   "outputs": [],
   "source": [
    "cn_train = np.loadtxt('DS1_train_0.txt', delimiter=',', usecols = range(20))\n",
    "cp_train = np.loadtxt('DS1_train_1.txt', delimiter=',', usecols = range(20))\n",
    "cn_test = np.loadtxt('DS1_test_0.txt', delimiter=',', usecols = range(20))\n",
    "cp_test = np.loadtxt('DS1_test_1.txt', delimiter=',', usecols = range(20))"
   ]
  },
  {
   "cell_type": "code",
   "execution_count": 104,
   "metadata": {},
   "outputs": [],
   "source": [
    "def distance(x0, x1):\n",
    "    return np.linalg.norm(x0-x1)\n",
    "\n",
    "def get_dist_table(x):\n",
    "    rank = []\n",
    "    for i in cn_train:\n",
    "        rank.append((i, 1, distance(x,i)))\n",
    "    for i in cp_train:\n",
    "        rank.append((i, 0, distance(x,i)))\n",
    "    rank.sort(key = lambda t:t[2])\n",
    "    return rank\n",
    "\n",
    "def y_predict(index, k):\n",
    "    rank = test_dict[index]\n",
    "    sum = 0\n",
    "    for i in range(k):\n",
    "        sum = sum + rank[i][1]\n",
    "    return sum/k"
   ]
  },
  {
   "cell_type": "code",
   "execution_count": 105,
   "metadata": {},
   "outputs": [],
   "source": [
    "test_dict = []\n",
    "for i in cn_test:\n",
    "    test_dict.append(get_dist_table(i))\n",
    "for i in cp_test:\n",
    "    test_dict.append(get_dist_table(i))"
   ]
  },
  {
   "cell_type": "code",
   "execution_count": 106,
   "metadata": {},
   "outputs": [],
   "source": [
    "def test(k):\n",
    "    num_correct = 0\n",
    "    true_positive = 0\n",
    "    false_positive = 0\n",
    "    false_negative = 0\n",
    "    index = 0\n",
    "    for i in cn_test:\n",
    "        if y_predict(index, k) > 0.5:\n",
    "            num_correct = num_correct + 1\n",
    "        else:\n",
    "            false_positive = false_positive + 1\n",
    "        index = index + 1\n",
    "    for i in cp_test:\n",
    "        if y_predict(index, k) <= 0.5:\n",
    "            num_correct = num_correct + 1\n",
    "            true_positive = true_positive + 1\n",
    "        else:\n",
    "            false_negative = false_negative + 1\n",
    "        index = index + 1\n",
    "    accuracy = num_correct/(cn_test.shape[0]+cp_test.shape[0])\n",
    "    precision = true_positive/(true_positive+false_positive)\n",
    "    recall = true_positive/(true_positive+false_negative)\n",
    "    f_measure = (2*precision*recall)/(precision + recall)\n",
    "    return (k, accuracy, precision, recall, f_measure)"
   ]
  },
  {
   "cell_type": "code",
   "execution_count": 107,
   "metadata": {},
   "outputs": [
    {
     "data": {
      "text/plain": [
       "[(2,\n",
       "  0.5191666666666667,\n",
       "  0.5128205128205128,\n",
       "  0.7666666666666667,\n",
       "  0.614562458249833),\n",
       " (2700, 0.575, 0.5659824046920822, 0.6433333333333333, 0.6021840873634945),\n",
       " (4, 0.5175, 0.5125148986889154, 0.7166666666666667, 0.5976372480889507),\n",
       " (400, 0.5725, 0.5654135338345865, 0.6266666666666667, 0.5944664031620553),\n",
       " (8, 0.545, 0.5362903225806451, 0.665, 0.59375),\n",
       " (700,\n",
       "  0.5708333333333333,\n",
       "  0.5642965204236006,\n",
       "  0.6216666666666667,\n",
       "  0.591593973037272),\n",
       " (900,\n",
       "  0.5733333333333334,\n",
       "  0.5674846625766872,\n",
       "  0.6166666666666667,\n",
       "  0.5910543130990417),\n",
       " (1300,\n",
       "  0.5691666666666667,\n",
       "  0.5629742033383915,\n",
       "  0.6183333333333333,\n",
       "  0.5893566322478158),\n",
       " (1500,\n",
       "  0.5758333333333333,\n",
       "  0.5712050078247262,\n",
       "  0.6083333333333333,\n",
       "  0.589184826472962),\n",
       " (500,\n",
       "  0.5683333333333334,\n",
       "  0.5621212121212121,\n",
       "  0.6183333333333333,\n",
       "  0.5888888888888888)]"
      ]
     },
     "execution_count": 107,
     "metadata": {},
     "output_type": "execute_result"
    }
   ],
   "source": [
    "test_table = []\n",
    "for k in itertools.chain(range(1,11), range(20,101,10), range(200,2701,100)):\n",
    "    test_table.append(test(k))\n",
    "test_table.sort(key = lambda t:t[4],reverse=True)\n",
    "test_table[:10]"
   ]
  },
  {
   "cell_type": "code",
   "execution_count": null,
   "metadata": {},
   "outputs": [],
   "source": []
  },
  {
   "cell_type": "code",
   "execution_count": null,
   "metadata": {},
   "outputs": [],
   "source": []
  },
  {
   "cell_type": "code",
   "execution_count": null,
   "metadata": {
    "collapsed": true
   },
   "outputs": [],
   "source": []
  },
  {
   "cell_type": "raw",
   "metadata": {},
   "source": []
  }
 ],
 "metadata": {
  "kernelspec": {
   "display_name": "Python 3",
   "language": "python",
   "name": "python3"
  },
  "language_info": {
   "codemirror_mode": {
    "name": "ipython",
    "version": 3
   },
   "file_extension": ".py",
   "mimetype": "text/x-python",
   "name": "python",
   "nbconvert_exporter": "python",
   "pygments_lexer": "ipython3",
   "version": "3.6.3"
  }
 },
 "nbformat": 4,
 "nbformat_minor": 2
}
